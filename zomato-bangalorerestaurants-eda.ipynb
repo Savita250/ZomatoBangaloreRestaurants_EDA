{
 "cells": [
  {
   "cell_type": "code",
   "execution_count": 1,
   "metadata": {
    "execution": {
     "iopub.execute_input": "2021-02-09T11:46:09.148907Z",
     "iopub.status.busy": "2021-02-09T11:46:09.148117Z",
     "iopub.status.idle": "2021-02-09T11:46:10.282946Z",
     "shell.execute_reply": "2021-02-09T11:46:10.282095Z"
    },
    "papermill": {
     "duration": 1.164325,
     "end_time": "2021-02-09T11:46:10.283106",
     "exception": false,
     "start_time": "2021-02-09T11:46:09.118781",
     "status": "completed"
    },
    "tags": []
   },
   "outputs": [],
   "source": [
    "import numpy as np\n",
    "import pandas as pd\n",
    "import seaborn as sns\n",
    "import matplotlib.pyplot as plt\n",
    "%matplotlib inline"
   ]
  },
  {
   "cell_type": "code",
   "execution_count": 2,
   "metadata": {
    "_cell_guid": "79c7e3d0-c299-4dcb-8224-4455121ee9b0",
    "_uuid": "d629ff2d2480ee46fbb7e2d37f6b5fab8052498a",
    "execution": {
     "iopub.execute_input": "2021-02-09T11:46:10.331297Z",
     "iopub.status.busy": "2021-02-09T11:46:10.330411Z",
     "iopub.status.idle": "2021-02-09T11:46:21.997457Z",
     "shell.execute_reply": "2021-02-09T11:46:21.996359Z"
    },
    "papermill": {
     "duration": 11.696356,
     "end_time": "2021-02-09T11:46:21.997597",
     "exception": false,
     "start_time": "2021-02-09T11:46:10.301241",
     "status": "completed"
    },
    "tags": []
   },
   "outputs": [],
   "source": [
    "df = pd.read_csv('../input/zomato-bangalore-restaurants/zomato.csv')"
   ]
  },
  {
   "cell_type": "code",
   "execution_count": 3,
   "metadata": {
    "execution": {
     "iopub.execute_input": "2021-02-09T11:46:22.058206Z",
     "iopub.status.busy": "2021-02-09T11:46:22.057373Z",
     "iopub.status.idle": "2021-02-09T11:46:22.074438Z",
     "shell.execute_reply": "2021-02-09T11:46:22.073427Z"
    },
    "papermill": {
     "duration": 0.059525,
     "end_time": "2021-02-09T11:46:22.074562",
     "exception": false,
     "start_time": "2021-02-09T11:46:22.015037",
     "status": "completed"
    },
    "tags": []
   },
   "outputs": [
    {
     "data": {
      "text/html": [
       "<div>\n",
       "<style scoped>\n",
       "    .dataframe tbody tr th:only-of-type {\n",
       "        vertical-align: middle;\n",
       "    }\n",
       "\n",
       "    .dataframe tbody tr th {\n",
       "        vertical-align: top;\n",
       "    }\n",
       "\n",
       "    .dataframe thead th {\n",
       "        text-align: right;\n",
       "    }\n",
       "</style>\n",
       "<table border=\"1\" class=\"dataframe\">\n",
       "  <thead>\n",
       "    <tr style=\"text-align: right;\">\n",
       "      <th></th>\n",
       "      <th>url</th>\n",
       "      <th>address</th>\n",
       "      <th>name</th>\n",
       "      <th>online_order</th>\n",
       "      <th>book_table</th>\n",
       "      <th>rate</th>\n",
       "      <th>votes</th>\n",
       "      <th>phone</th>\n",
       "      <th>location</th>\n",
       "      <th>rest_type</th>\n",
       "      <th>dish_liked</th>\n",
       "      <th>cuisines</th>\n",
       "      <th>approx_cost(for two people)</th>\n",
       "      <th>reviews_list</th>\n",
       "      <th>menu_item</th>\n",
       "      <th>listed_in(type)</th>\n",
       "      <th>listed_in(city)</th>\n",
       "    </tr>\n",
       "  </thead>\n",
       "  <tbody>\n",
       "    <tr>\n",
       "      <th>0</th>\n",
       "      <td>https://www.zomato.com/bangalore/jalsa-banasha...</td>\n",
       "      <td>942, 21st Main Road, 2nd Stage, Banashankari, ...</td>\n",
       "      <td>Jalsa</td>\n",
       "      <td>Yes</td>\n",
       "      <td>Yes</td>\n",
       "      <td>4.1/5</td>\n",
       "      <td>775</td>\n",
       "      <td>080 42297555\\r\\n+91 9743772233</td>\n",
       "      <td>Banashankari</td>\n",
       "      <td>Casual Dining</td>\n",
       "      <td>Pasta, Lunch Buffet, Masala Papad, Paneer Laja...</td>\n",
       "      <td>North Indian, Mughlai, Chinese</td>\n",
       "      <td>800</td>\n",
       "      <td>[('Rated 4.0', 'RATED\\n  A beautiful place to ...</td>\n",
       "      <td>[]</td>\n",
       "      <td>Buffet</td>\n",
       "      <td>Banashankari</td>\n",
       "    </tr>\n",
       "    <tr>\n",
       "      <th>1</th>\n",
       "      <td>https://www.zomato.com/bangalore/spice-elephan...</td>\n",
       "      <td>2nd Floor, 80 Feet Road, Near Big Bazaar, 6th ...</td>\n",
       "      <td>Spice Elephant</td>\n",
       "      <td>Yes</td>\n",
       "      <td>No</td>\n",
       "      <td>4.1/5</td>\n",
       "      <td>787</td>\n",
       "      <td>080 41714161</td>\n",
       "      <td>Banashankari</td>\n",
       "      <td>Casual Dining</td>\n",
       "      <td>Momos, Lunch Buffet, Chocolate Nirvana, Thai G...</td>\n",
       "      <td>Chinese, North Indian, Thai</td>\n",
       "      <td>800</td>\n",
       "      <td>[('Rated 4.0', 'RATED\\n  Had been here for din...</td>\n",
       "      <td>[]</td>\n",
       "      <td>Buffet</td>\n",
       "      <td>Banashankari</td>\n",
       "    </tr>\n",
       "    <tr>\n",
       "      <th>2</th>\n",
       "      <td>https://www.zomato.com/SanchurroBangalore?cont...</td>\n",
       "      <td>1112, Next to KIMS Medical College, 17th Cross...</td>\n",
       "      <td>San Churro Cafe</td>\n",
       "      <td>Yes</td>\n",
       "      <td>No</td>\n",
       "      <td>3.8/5</td>\n",
       "      <td>918</td>\n",
       "      <td>+91 9663487993</td>\n",
       "      <td>Banashankari</td>\n",
       "      <td>Cafe, Casual Dining</td>\n",
       "      <td>Churros, Cannelloni, Minestrone Soup, Hot Choc...</td>\n",
       "      <td>Cafe, Mexican, Italian</td>\n",
       "      <td>800</td>\n",
       "      <td>[('Rated 3.0', \"RATED\\n  Ambience is not that ...</td>\n",
       "      <td>[]</td>\n",
       "      <td>Buffet</td>\n",
       "      <td>Banashankari</td>\n",
       "    </tr>\n",
       "    <tr>\n",
       "      <th>3</th>\n",
       "      <td>https://www.zomato.com/bangalore/addhuri-udupi...</td>\n",
       "      <td>1st Floor, Annakuteera, 3rd Stage, Banashankar...</td>\n",
       "      <td>Addhuri Udupi Bhojana</td>\n",
       "      <td>No</td>\n",
       "      <td>No</td>\n",
       "      <td>3.7/5</td>\n",
       "      <td>88</td>\n",
       "      <td>+91 9620009302</td>\n",
       "      <td>Banashankari</td>\n",
       "      <td>Quick Bites</td>\n",
       "      <td>Masala Dosa</td>\n",
       "      <td>South Indian, North Indian</td>\n",
       "      <td>300</td>\n",
       "      <td>[('Rated 4.0', \"RATED\\n  Great food and proper...</td>\n",
       "      <td>[]</td>\n",
       "      <td>Buffet</td>\n",
       "      <td>Banashankari</td>\n",
       "    </tr>\n",
       "    <tr>\n",
       "      <th>4</th>\n",
       "      <td>https://www.zomato.com/bangalore/grand-village...</td>\n",
       "      <td>10, 3rd Floor, Lakshmi Associates, Gandhi Baza...</td>\n",
       "      <td>Grand Village</td>\n",
       "      <td>No</td>\n",
       "      <td>No</td>\n",
       "      <td>3.8/5</td>\n",
       "      <td>166</td>\n",
       "      <td>+91 8026612447\\r\\n+91 9901210005</td>\n",
       "      <td>Basavanagudi</td>\n",
       "      <td>Casual Dining</td>\n",
       "      <td>Panipuri, Gol Gappe</td>\n",
       "      <td>North Indian, Rajasthani</td>\n",
       "      <td>600</td>\n",
       "      <td>[('Rated 4.0', 'RATED\\n  Very good restaurant ...</td>\n",
       "      <td>[]</td>\n",
       "      <td>Buffet</td>\n",
       "      <td>Banashankari</td>\n",
       "    </tr>\n",
       "  </tbody>\n",
       "</table>\n",
       "</div>"
      ],
      "text/plain": [
       "                                                 url  \\\n",
       "0  https://www.zomato.com/bangalore/jalsa-banasha...   \n",
       "1  https://www.zomato.com/bangalore/spice-elephan...   \n",
       "2  https://www.zomato.com/SanchurroBangalore?cont...   \n",
       "3  https://www.zomato.com/bangalore/addhuri-udupi...   \n",
       "4  https://www.zomato.com/bangalore/grand-village...   \n",
       "\n",
       "                                             address                   name  \\\n",
       "0  942, 21st Main Road, 2nd Stage, Banashankari, ...                  Jalsa   \n",
       "1  2nd Floor, 80 Feet Road, Near Big Bazaar, 6th ...         Spice Elephant   \n",
       "2  1112, Next to KIMS Medical College, 17th Cross...        San Churro Cafe   \n",
       "3  1st Floor, Annakuteera, 3rd Stage, Banashankar...  Addhuri Udupi Bhojana   \n",
       "4  10, 3rd Floor, Lakshmi Associates, Gandhi Baza...          Grand Village   \n",
       "\n",
       "  online_order book_table   rate  votes                             phone  \\\n",
       "0          Yes        Yes  4.1/5    775    080 42297555\\r\\n+91 9743772233   \n",
       "1          Yes         No  4.1/5    787                      080 41714161   \n",
       "2          Yes         No  3.8/5    918                    +91 9663487993   \n",
       "3           No         No  3.7/5     88                    +91 9620009302   \n",
       "4           No         No  3.8/5    166  +91 8026612447\\r\\n+91 9901210005   \n",
       "\n",
       "       location            rest_type  \\\n",
       "0  Banashankari        Casual Dining   \n",
       "1  Banashankari        Casual Dining   \n",
       "2  Banashankari  Cafe, Casual Dining   \n",
       "3  Banashankari          Quick Bites   \n",
       "4  Basavanagudi        Casual Dining   \n",
       "\n",
       "                                          dish_liked  \\\n",
       "0  Pasta, Lunch Buffet, Masala Papad, Paneer Laja...   \n",
       "1  Momos, Lunch Buffet, Chocolate Nirvana, Thai G...   \n",
       "2  Churros, Cannelloni, Minestrone Soup, Hot Choc...   \n",
       "3                                        Masala Dosa   \n",
       "4                                Panipuri, Gol Gappe   \n",
       "\n",
       "                         cuisines approx_cost(for two people)  \\\n",
       "0  North Indian, Mughlai, Chinese                         800   \n",
       "1     Chinese, North Indian, Thai                         800   \n",
       "2          Cafe, Mexican, Italian                         800   \n",
       "3      South Indian, North Indian                         300   \n",
       "4        North Indian, Rajasthani                         600   \n",
       "\n",
       "                                        reviews_list menu_item  \\\n",
       "0  [('Rated 4.0', 'RATED\\n  A beautiful place to ...        []   \n",
       "1  [('Rated 4.0', 'RATED\\n  Had been here for din...        []   \n",
       "2  [('Rated 3.0', \"RATED\\n  Ambience is not that ...        []   \n",
       "3  [('Rated 4.0', \"RATED\\n  Great food and proper...        []   \n",
       "4  [('Rated 4.0', 'RATED\\n  Very good restaurant ...        []   \n",
       "\n",
       "  listed_in(type) listed_in(city)  \n",
       "0          Buffet    Banashankari  \n",
       "1          Buffet    Banashankari  \n",
       "2          Buffet    Banashankari  \n",
       "3          Buffet    Banashankari  \n",
       "4          Buffet    Banashankari  "
      ]
     },
     "execution_count": 3,
     "metadata": {},
     "output_type": "execute_result"
    }
   ],
   "source": [
    "df.head()"
   ]
  },
  {
   "cell_type": "code",
   "execution_count": 4,
   "metadata": {
    "execution": {
     "iopub.execute_input": "2021-02-09T11:46:22.211303Z",
     "iopub.status.busy": "2021-02-09T11:46:22.210610Z",
     "iopub.status.idle": "2021-02-09T11:46:22.239741Z",
     "shell.execute_reply": "2021-02-09T11:46:22.239005Z"
    },
    "papermill": {
     "duration": 0.146745,
     "end_time": "2021-02-09T11:46:22.239877",
     "exception": false,
     "start_time": "2021-02-09T11:46:22.093132",
     "status": "completed"
    },
    "tags": []
   },
   "outputs": [
    {
     "data": {
      "text/plain": [
       "dish_liked                     54.291626\n",
       "rate                           15.033741\n",
       "phone                           2.335789\n",
       "approx_cost(for two people)     0.669026\n",
       "rest_type                       0.438927\n",
       "cuisines                        0.087012\n",
       "location                        0.040606\n",
       "address                         0.000000\n",
       "name                            0.000000\n",
       "online_order                    0.000000\n",
       "book_table                      0.000000\n",
       "listed_in(city)                 0.000000\n",
       "votes                           0.000000\n",
       "listed_in(type)                 0.000000\n",
       "reviews_list                    0.000000\n",
       "menu_item                       0.000000\n",
       "url                             0.000000\n",
       "dtype: float64"
      ]
     },
     "execution_count": 4,
     "metadata": {},
     "output_type": "execute_result"
    }
   ],
   "source": [
    "percent = (df.isnull().sum()*100/len(df)).sort_values(ascending=False)\n",
    "percent"
   ]
  },
  {
   "cell_type": "code",
   "execution_count": 5,
   "metadata": {
    "execution": {
     "iopub.execute_input": "2021-02-09T11:46:22.290874Z",
     "iopub.status.busy": "2021-02-09T11:46:22.289792Z",
     "iopub.status.idle": "2021-02-09T11:46:22.294346Z",
     "shell.execute_reply": "2021-02-09T11:46:22.293829Z"
    },
    "papermill": {
     "duration": 0.035791,
     "end_time": "2021-02-09T11:46:22.294474",
     "exception": false,
     "start_time": "2021-02-09T11:46:22.258683",
     "status": "completed"
    },
    "tags": []
   },
   "outputs": [
    {
     "data": {
      "text/plain": [
       "array(['4.1/5', '3.8/5', '3.7/5', '3.6/5', '4.6/5', '4.0/5', '4.2/5',\n",
       "       '3.9/5', '3.1/5', '3.0/5', '3.2/5', '3.3/5', '2.8/5', '4.4/5',\n",
       "       '4.3/5', 'NEW', '2.9/5', '3.5/5', nan, '2.6/5', '3.8 /5', '3.4/5',\n",
       "       '4.5/5', '2.5/5', '2.7/5', '4.7/5', '2.4/5', '2.2/5', '2.3/5',\n",
       "       '3.4 /5', '-', '3.6 /5', '4.8/5', '3.9 /5', '4.2 /5', '4.0 /5',\n",
       "       '4.1 /5', '3.7 /5', '3.1 /5', '2.9 /5', '3.3 /5', '2.8 /5',\n",
       "       '3.5 /5', '2.7 /5', '2.5 /5', '3.2 /5', '2.6 /5', '4.5 /5',\n",
       "       '4.3 /5', '4.4 /5', '4.9/5', '2.1/5', '2.0/5', '1.8/5', '4.6 /5',\n",
       "       '4.9 /5', '3.0 /5', '4.8 /5', '2.3 /5', '4.7 /5', '2.4 /5',\n",
       "       '2.1 /5', '2.2 /5', '2.0 /5', '1.8 /5'], dtype=object)"
      ]
     },
     "execution_count": 5,
     "metadata": {},
     "output_type": "execute_result"
    }
   ],
   "source": [
    "df.rate.unique()"
   ]
  },
  {
   "cell_type": "code",
   "execution_count": 6,
   "metadata": {
    "execution": {
     "iopub.execute_input": "2021-02-09T11:46:22.342405Z",
     "iopub.status.busy": "2021-02-09T11:46:22.341618Z",
     "iopub.status.idle": "2021-02-09T11:46:22.448006Z",
     "shell.execute_reply": "2021-02-09T11:46:22.448619Z"
    },
    "papermill": {
     "duration": 0.135136,
     "end_time": "2021-02-09T11:46:22.448818",
     "exception": false,
     "start_time": "2021-02-09T11:46:22.313682",
     "status": "completed"
    },
    "tags": []
   },
   "outputs": [],
   "source": [
    "df.rate = df.rate.replace('NEW',np.nan)\n",
    "df.dropna(how ='any', inplace = True)"
   ]
  },
  {
   "cell_type": "code",
   "execution_count": 7,
   "metadata": {
    "execution": {
     "iopub.execute_input": "2021-02-09T11:46:22.507232Z",
     "iopub.status.busy": "2021-02-09T11:46:22.506523Z",
     "iopub.status.idle": "2021-02-09T11:46:22.543419Z",
     "shell.execute_reply": "2021-02-09T11:46:22.542739Z"
    },
    "papermill": {
     "duration": 0.075029,
     "end_time": "2021-02-09T11:46:22.543545",
     "exception": false,
     "start_time": "2021-02-09T11:46:22.468516",
     "status": "completed"
    },
    "tags": []
   },
   "outputs": [
    {
     "data": {
      "text/html": [
       "<div>\n",
       "<style scoped>\n",
       "    .dataframe tbody tr th:only-of-type {\n",
       "        vertical-align: middle;\n",
       "    }\n",
       "\n",
       "    .dataframe tbody tr th {\n",
       "        vertical-align: top;\n",
       "    }\n",
       "\n",
       "    .dataframe thead th {\n",
       "        text-align: right;\n",
       "    }\n",
       "</style>\n",
       "<table border=\"1\" class=\"dataframe\">\n",
       "  <thead>\n",
       "    <tr style=\"text-align: right;\">\n",
       "      <th></th>\n",
       "      <th>name</th>\n",
       "      <th>online_order</th>\n",
       "      <th>book_table</th>\n",
       "      <th>rate</th>\n",
       "      <th>votes</th>\n",
       "      <th>rest_type</th>\n",
       "      <th>dish_liked</th>\n",
       "      <th>cuisines</th>\n",
       "      <th>avg_cost</th>\n",
       "      <th>reviews_list</th>\n",
       "      <th>menu_item</th>\n",
       "      <th>restaurant_type</th>\n",
       "      <th>locality</th>\n",
       "    </tr>\n",
       "  </thead>\n",
       "  <tbody>\n",
       "    <tr>\n",
       "      <th>0</th>\n",
       "      <td>Jalsa</td>\n",
       "      <td>Yes</td>\n",
       "      <td>Yes</td>\n",
       "      <td>4.1/5</td>\n",
       "      <td>775</td>\n",
       "      <td>Casual Dining</td>\n",
       "      <td>Pasta, Lunch Buffet, Masala Papad, Paneer Laja...</td>\n",
       "      <td>North Indian, Mughlai, Chinese</td>\n",
       "      <td>800</td>\n",
       "      <td>[('Rated 4.0', 'RATED\\n  A beautiful place to ...</td>\n",
       "      <td>[]</td>\n",
       "      <td>Buffet</td>\n",
       "      <td>Banashankari</td>\n",
       "    </tr>\n",
       "    <tr>\n",
       "      <th>1</th>\n",
       "      <td>Spice Elephant</td>\n",
       "      <td>Yes</td>\n",
       "      <td>No</td>\n",
       "      <td>4.1/5</td>\n",
       "      <td>787</td>\n",
       "      <td>Casual Dining</td>\n",
       "      <td>Momos, Lunch Buffet, Chocolate Nirvana, Thai G...</td>\n",
       "      <td>Chinese, North Indian, Thai</td>\n",
       "      <td>800</td>\n",
       "      <td>[('Rated 4.0', 'RATED\\n  Had been here for din...</td>\n",
       "      <td>[]</td>\n",
       "      <td>Buffet</td>\n",
       "      <td>Banashankari</td>\n",
       "    </tr>\n",
       "    <tr>\n",
       "      <th>2</th>\n",
       "      <td>San Churro Cafe</td>\n",
       "      <td>Yes</td>\n",
       "      <td>No</td>\n",
       "      <td>3.8/5</td>\n",
       "      <td>918</td>\n",
       "      <td>Cafe, Casual Dining</td>\n",
       "      <td>Churros, Cannelloni, Minestrone Soup, Hot Choc...</td>\n",
       "      <td>Cafe, Mexican, Italian</td>\n",
       "      <td>800</td>\n",
       "      <td>[('Rated 3.0', \"RATED\\n  Ambience is not that ...</td>\n",
       "      <td>[]</td>\n",
       "      <td>Buffet</td>\n",
       "      <td>Banashankari</td>\n",
       "    </tr>\n",
       "    <tr>\n",
       "      <th>3</th>\n",
       "      <td>Addhuri Udupi Bhojana</td>\n",
       "      <td>No</td>\n",
       "      <td>No</td>\n",
       "      <td>3.7/5</td>\n",
       "      <td>88</td>\n",
       "      <td>Quick Bites</td>\n",
       "      <td>Masala Dosa</td>\n",
       "      <td>South Indian, North Indian</td>\n",
       "      <td>300</td>\n",
       "      <td>[('Rated 4.0', \"RATED\\n  Great food and proper...</td>\n",
       "      <td>[]</td>\n",
       "      <td>Buffet</td>\n",
       "      <td>Banashankari</td>\n",
       "    </tr>\n",
       "    <tr>\n",
       "      <th>4</th>\n",
       "      <td>Grand Village</td>\n",
       "      <td>No</td>\n",
       "      <td>No</td>\n",
       "      <td>3.8/5</td>\n",
       "      <td>166</td>\n",
       "      <td>Casual Dining</td>\n",
       "      <td>Panipuri, Gol Gappe</td>\n",
       "      <td>North Indian, Rajasthani</td>\n",
       "      <td>600</td>\n",
       "      <td>[('Rated 4.0', 'RATED\\n  Very good restaurant ...</td>\n",
       "      <td>[]</td>\n",
       "      <td>Buffet</td>\n",
       "      <td>Banashankari</td>\n",
       "    </tr>\n",
       "  </tbody>\n",
       "</table>\n",
       "</div>"
      ],
      "text/plain": [
       "                    name online_order book_table   rate  votes  \\\n",
       "0                  Jalsa          Yes        Yes  4.1/5    775   \n",
       "1         Spice Elephant          Yes         No  4.1/5    787   \n",
       "2        San Churro Cafe          Yes         No  3.8/5    918   \n",
       "3  Addhuri Udupi Bhojana           No         No  3.7/5     88   \n",
       "4          Grand Village           No         No  3.8/5    166   \n",
       "\n",
       "             rest_type                                         dish_liked  \\\n",
       "0        Casual Dining  Pasta, Lunch Buffet, Masala Papad, Paneer Laja...   \n",
       "1        Casual Dining  Momos, Lunch Buffet, Chocolate Nirvana, Thai G...   \n",
       "2  Cafe, Casual Dining  Churros, Cannelloni, Minestrone Soup, Hot Choc...   \n",
       "3          Quick Bites                                        Masala Dosa   \n",
       "4        Casual Dining                                Panipuri, Gol Gappe   \n",
       "\n",
       "                         cuisines avg_cost  \\\n",
       "0  North Indian, Mughlai, Chinese      800   \n",
       "1     Chinese, North Indian, Thai      800   \n",
       "2          Cafe, Mexican, Italian      800   \n",
       "3      South Indian, North Indian      300   \n",
       "4        North Indian, Rajasthani      600   \n",
       "\n",
       "                                        reviews_list menu_item  \\\n",
       "0  [('Rated 4.0', 'RATED\\n  A beautiful place to ...        []   \n",
       "1  [('Rated 4.0', 'RATED\\n  Had been here for din...        []   \n",
       "2  [('Rated 3.0', \"RATED\\n  Ambience is not that ...        []   \n",
       "3  [('Rated 4.0', \"RATED\\n  Great food and proper...        []   \n",
       "4  [('Rated 4.0', 'RATED\\n  Very good restaurant ...        []   \n",
       "\n",
       "  restaurant_type      locality  \n",
       "0          Buffet  Banashankari  \n",
       "1          Buffet  Banashankari  \n",
       "2          Buffet  Banashankari  \n",
       "3          Buffet  Banashankari  \n",
       "4          Buffet  Banashankari  "
      ]
     },
     "execution_count": 7,
     "metadata": {},
     "output_type": "execute_result"
    }
   ],
   "source": [
    "del df['url']\n",
    "del df['address']\n",
    "del df['phone']\n",
    "del df['location']\n",
    "df.rename(columns={'approx_cost(for two people)': 'avg_cost', 'listed_in(city)': 'locality','listed_in(type)': 'restaurant_type'}, inplace=True)\n",
    "df.head()"
   ]
  },
  {
   "cell_type": "code",
   "execution_count": 8,
   "metadata": {
    "execution": {
     "iopub.execute_input": "2021-02-09T11:46:22.590864Z",
     "iopub.status.busy": "2021-02-09T11:46:22.589959Z",
     "iopub.status.idle": "2021-02-09T11:46:22.595051Z",
     "shell.execute_reply": "2021-02-09T11:46:22.594372Z"
    },
    "papermill": {
     "duration": 0.031451,
     "end_time": "2021-02-09T11:46:22.595190",
     "exception": false,
     "start_time": "2021-02-09T11:46:22.563739",
     "status": "completed"
    },
    "tags": []
   },
   "outputs": [
    {
     "data": {
      "text/plain": [
       "dtype('O')"
      ]
     },
     "execution_count": 8,
     "metadata": {},
     "output_type": "execute_result"
    }
   ],
   "source": [
    "df.rate.dtype"
   ]
  },
  {
   "cell_type": "code",
   "execution_count": 9,
   "metadata": {
    "execution": {
     "iopub.execute_input": "2021-02-09T11:46:22.651845Z",
     "iopub.status.busy": "2021-02-09T11:46:22.643891Z",
     "iopub.status.idle": "2021-02-09T11:46:22.689438Z",
     "shell.execute_reply": "2021-02-09T11:46:22.689973Z"
    },
    "papermill": {
     "duration": 0.074176,
     "end_time": "2021-02-09T11:46:22.690147",
     "exception": false,
     "start_time": "2021-02-09T11:46:22.615971",
     "status": "completed"
    },
    "tags": []
   },
   "outputs": [
    {
     "data": {
      "text/plain": [
       "array([4.1, 3.8, 3.7, 4.6, 4. , 4.2, 3.9, 3. , 3.6, 2.8, 4.4, 3.1, 4.3,\n",
       "       2.6, 3.3, 3.5, 3.2, 4.5, 2.5, 2.9, 3.4, 2.7, 4.7, 2.4, 2.2, 2.3,\n",
       "       4.8, 4.9, 2.1, 2. , 1.8])"
      ]
     },
     "execution_count": 9,
     "metadata": {},
     "output_type": "execute_result"
    }
   ],
   "source": [
    "D = df\n",
    "D.rate = D.rate.astype(str)\n",
    "D.rate = D.rate.apply(lambda x:x.replace('/5',''))\n",
    "D.rate = D.rate.apply(lambda x:float(x))\n",
    "D.rate.unique()"
   ]
  },
  {
   "cell_type": "code",
   "execution_count": 10,
   "metadata": {
    "execution": {
     "iopub.execute_input": "2021-02-09T11:46:22.741636Z",
     "iopub.status.busy": "2021-02-09T11:46:22.740928Z",
     "iopub.status.idle": "2021-02-09T11:46:23.122193Z",
     "shell.execute_reply": "2021-02-09T11:46:23.122754Z"
    },
    "papermill": {
     "duration": 0.411491,
     "end_time": "2021-02-09T11:46:23.122926",
     "exception": false,
     "start_time": "2021-02-09T11:46:22.711435",
     "status": "completed"
    },
    "tags": []
   },
   "outputs": [
    {
     "data": {
      "text/plain": [
       "<matplotlib.axes._subplots.AxesSubplot at 0x7f46e4639490>"
      ]
     },
     "execution_count": 10,
     "metadata": {},
     "output_type": "execute_result"
    },
    {
     "data": {
      "image/png": "[encoded data removed]",
      "text/plain": [
       "<Figure size 864x432 with 1 Axes>"
      ]
     },
     "metadata": {
      "needs_background": "light"
     },
     "output_type": "display_data"
    }
   ],
   "source": [
    "plt.figure(figsize=(12,6))\n",
    "g = sns.countplot(df['locality'])\n",
    "g.set_xticklabels(g.get_xticklabels(), rotation=90, ha=\"right\")\n",
    "g"
   ]
  },
  {
   "cell_type": "code",
   "execution_count": 11,
   "metadata": {
    "execution": {
     "iopub.execute_input": "2021-02-09T11:46:23.173249Z",
     "iopub.status.busy": "2021-02-09T11:46:23.172445Z",
     "iopub.status.idle": "2021-02-09T11:46:24.255872Z",
     "shell.execute_reply": "2021-02-09T11:46:24.255107Z"
    },
    "papermill": {
     "duration": 1.110005,
     "end_time": "2021-02-09T11:46:24.256001",
     "exception": false,
     "start_time": "2021-02-09T11:46:23.145996",
     "status": "completed"
    },
    "tags": []
   },
   "outputs": [
    {
     "data": {
      "text/plain": [
       "<matplotlib.axes._subplots.AxesSubplot at 0x7f46e42a15d0>"
      ]
     },
     "execution_count": 11,
     "metadata": {},
     "output_type": "execute_result"
    },
    {
     "data": {
      "image/png": "[encoded data removed]",
      "text/plain": [
       "<Figure size 864x432 with 1 Axes>"
      ]
     },
     "metadata": {
      "needs_background": "light"
     },
     "output_type": "display_data"
    }
   ],
   "source": [
    "plt.figure(figsize=(12,6))\n",
    "g = sns.countplot(df['rest_type'])\n",
    "g.set_xticklabels(g.get_xticklabels(), rotation=90, ha=\"right\")\n",
    "g"
   ]
  },
  {
   "cell_type": "code",
   "execution_count": 12,
   "metadata": {
    "execution": {
     "iopub.execute_input": "2021-02-09T11:46:24.322094Z",
     "iopub.status.busy": "2021-02-09T11:46:24.321371Z",
     "iopub.status.idle": "2021-02-09T11:46:24.569429Z",
     "shell.execute_reply": "2021-02-09T11:46:24.570024Z"
    },
    "papermill": {
     "duration": 0.288931,
     "end_time": "2021-02-09T11:46:24.570201",
     "exception": false,
     "start_time": "2021-02-09T11:46:24.281270",
     "status": "completed"
    },
    "tags": []
   },
   "outputs": [
    {
     "data": {
      "text/plain": [
       "<matplotlib.axes._subplots.AxesSubplot at 0x7f46e44d4350>"
      ]
     },
     "execution_count": 12,
     "metadata": {},
     "output_type": "execute_result"
    },
    {
     "data": {
      "image/png": "[encoded data removed]",
      "text/plain": [
       "<Figure size 864x432 with 1 Axes>"
      ]
     },
     "metadata": {
      "needs_background": "light"
     },
     "output_type": "display_data"
    }
   ],
   "source": [
    "plt.figure(figsize=(12,6))\n",
    "D['online_order'].value_counts().plot.bar()"
   ]
  },
  {
   "cell_type": "code",
   "execution_count": 13,
   "metadata": {
    "execution": {
     "iopub.execute_input": "2021-02-09T11:46:24.636002Z",
     "iopub.status.busy": "2021-02-09T11:46:24.635111Z",
     "iopub.status.idle": "2021-02-09T11:46:25.021351Z",
     "shell.execute_reply": "2021-02-09T11:46:25.020761Z"
    },
    "papermill": {
     "duration": 0.42436,
     "end_time": "2021-02-09T11:46:25.021476",
     "exception": false,
     "start_time": "2021-02-09T11:46:24.597116",
     "status": "completed"
    },
    "tags": []
   },
   "outputs": [
    {
     "data": {
      "image/png": "[encoded data removed]",
      "text/plain": [
       "<Figure size 1080x648 with 1 Axes>"
      ]
     },
     "metadata": {
      "needs_background": "light"
     },
     "output_type": "display_data"
    }
   ],
   "source": [
    "plt.rcParams['figure.figsize'] = (15, 9)\n",
    "x = pd.crosstab(D['rate'], D['online_order'])\n",
    "x.div(x.sum(1).astype(float), axis=0).plot(kind='bar',stacked=True, color=['red','yellow'])\n",
    "plt.title('online order vs rate')\n",
    "plt.legend(loc='upper right')\n",
    "plt.show()"
   ]
  },
  {
   "cell_type": "code",
   "execution_count": 14,
   "metadata": {
    "execution": {
     "iopub.execute_input": "2021-02-09T11:46:25.103644Z",
     "iopub.status.busy": "2021-02-09T11:46:25.098591Z",
     "iopub.status.idle": "2021-02-09T11:46:25.251819Z",
     "shell.execute_reply": "2021-02-09T11:46:25.250389Z"
    },
    "papermill": {
     "duration": 0.201968,
     "end_time": "2021-02-09T11:46:25.251972",
     "exception": false,
     "start_time": "2021-02-09T11:46:25.050004",
     "status": "completed"
    },
    "tags": []
   },
   "outputs": [
    {
     "data": {
      "text/plain": [
       "<matplotlib.axes._subplots.AxesSubplot at 0x7f46dd3d39d0>"
      ]
     },
     "execution_count": 14,
     "metadata": {},
     "output_type": "execute_result"
    },
    {
     "data": {
      "image/png": "[encoded data removed]",
      "text/plain": [
       "<Figure size 1080x648 with 1 Axes>"
      ]
     },
     "metadata": {
      "needs_background": "light"
     },
     "output_type": "display_data"
    }
   ],
   "source": [
    "D['book_table'].value_counts().plot.bar(color='cyan')"
   ]
  },
  {
   "cell_type": "code",
   "execution_count": 15,
   "metadata": {
    "execution": {
     "iopub.execute_input": "2021-02-09T11:46:25.319761Z",
     "iopub.status.busy": "2021-02-09T11:46:25.319040Z",
     "iopub.status.idle": "2021-02-09T11:46:25.711995Z",
     "shell.execute_reply": "2021-02-09T11:46:25.712725Z"
    },
    "papermill": {
     "duration": 0.432166,
     "end_time": "2021-02-09T11:46:25.712882",
     "exception": false,
     "start_time": "2021-02-09T11:46:25.280716",
     "status": "completed"
    },
    "tags": []
   },
   "outputs": [
    {
     "data": {
      "image/png": "[encoded data removed]",
      "text/plain": [
       "<Figure size 1080x648 with 1 Axes>"
      ]
     },
     "metadata": {
      "needs_background": "light"
     },
     "output_type": "display_data"
    }
   ],
   "source": [
    "plt.rcParams['figure.figsize'] = (15, 9)\n",
    "x = pd.crosstab(D['rate'], D['book_table'])\n",
    "x.div(x.sum(1).astype(float), axis=0).plot(kind='bar',stacked=True, color=['red','yellow'])\n",
    "plt.title('table booking vs rate')\n",
    "plt.legend(loc='upper right')\n",
    "plt.show()"
   ]
  },
  {
   "cell_type": "code",
   "execution_count": 16,
   "metadata": {
    "execution": {
     "iopub.execute_input": "2021-02-09T11:46:25.776584Z",
     "iopub.status.busy": "2021-02-09T11:46:25.775878Z",
     "iopub.status.idle": "2021-02-09T11:46:25.794298Z",
     "shell.execute_reply": "2021-02-09T11:46:25.793736Z"
    },
    "papermill": {
     "duration": 0.051699,
     "end_time": "2021-02-09T11:46:25.794450",
     "exception": false,
     "start_time": "2021-02-09T11:46:25.742751",
     "status": "completed"
    },
    "tags": []
   },
   "outputs": [
    {
     "data": {
      "text/html": [
       "<div>\n",
       "<style scoped>\n",
       "    .dataframe tbody tr th:only-of-type {\n",
       "        vertical-align: middle;\n",
       "    }\n",
       "\n",
       "    .dataframe tbody tr th {\n",
       "        vertical-align: top;\n",
       "    }\n",
       "\n",
       "    .dataframe thead th {\n",
       "        text-align: right;\n",
       "    }\n",
       "</style>\n",
       "<table border=\"1\" class=\"dataframe\">\n",
       "  <thead>\n",
       "    <tr style=\"text-align: right;\">\n",
       "      <th></th>\n",
       "      <th>name</th>\n",
       "      <th>online_order</th>\n",
       "      <th>book_table</th>\n",
       "      <th>rate</th>\n",
       "      <th>votes</th>\n",
       "      <th>rest_type</th>\n",
       "      <th>dish_liked</th>\n",
       "      <th>cuisines</th>\n",
       "      <th>avg_cost</th>\n",
       "      <th>reviews_list</th>\n",
       "      <th>menu_item</th>\n",
       "      <th>restaurant_type</th>\n",
       "      <th>locality</th>\n",
       "    </tr>\n",
       "  </thead>\n",
       "  <tbody>\n",
       "    <tr>\n",
       "      <th>0</th>\n",
       "      <td>Jalsa</td>\n",
       "      <td>Yes</td>\n",
       "      <td>Yes</td>\n",
       "      <td>4.1</td>\n",
       "      <td>775</td>\n",
       "      <td>Casual Dining</td>\n",
       "      <td>Pasta, Lunch Buffet, Masala Papad, Paneer Laja...</td>\n",
       "      <td>North Indian, Mughlai, Chinese</td>\n",
       "      <td>800</td>\n",
       "      <td>[('Rated 4.0', 'RATED\\n  A beautiful place to ...</td>\n",
       "      <td>[]</td>\n",
       "      <td>Buffet</td>\n",
       "      <td>Banashankari</td>\n",
       "    </tr>\n",
       "  </tbody>\n",
       "</table>\n",
       "</div>"
      ],
      "text/plain": [
       "    name online_order book_table  rate  votes      rest_type  \\\n",
       "0  Jalsa          Yes        Yes   4.1    775  Casual Dining   \n",
       "\n",
       "                                          dish_liked  \\\n",
       "0  Pasta, Lunch Buffet, Masala Papad, Paneer Laja...   \n",
       "\n",
       "                         cuisines avg_cost  \\\n",
       "0  North Indian, Mughlai, Chinese      800   \n",
       "\n",
       "                                        reviews_list menu_item  \\\n",
       "0  [('Rated 4.0', 'RATED\\n  A beautiful place to ...        []   \n",
       "\n",
       "  restaurant_type      locality  \n",
       "0          Buffet  Banashankari  "
      ]
     },
     "execution_count": 16,
     "metadata": {},
     "output_type": "execute_result"
    }
   ],
   "source": [
    "D.head(1)"
   ]
  },
  {
   "cell_type": "code",
   "execution_count": 17,
   "metadata": {
    "execution": {
     "iopub.execute_input": "2021-02-09T11:46:25.861897Z",
     "iopub.status.busy": "2021-02-09T11:46:25.861209Z",
     "iopub.status.idle": "2021-02-09T11:46:26.164789Z",
     "shell.execute_reply": "2021-02-09T11:46:26.165339Z"
    },
    "papermill": {
     "duration": 0.340719,
     "end_time": "2021-02-09T11:46:26.165497",
     "exception": false,
     "start_time": "2021-02-09T11:46:25.824778",
     "status": "completed"
    },
    "tags": []
   },
   "outputs": [
    {
     "data": {
      "text/plain": [
       "<matplotlib.axes._subplots.AxesSubplot at 0x7f46d6714310>"
      ]
     },
     "execution_count": 17,
     "metadata": {},
     "output_type": "execute_result"
    },
    {
     "data": {
      "image/png": "[encoded data removed]",
      "text/plain": [
       "<Figure size 1080x648 with 1 Axes>"
      ]
     },
     "metadata": {
      "needs_background": "light"
     },
     "output_type": "display_data"
    }
   ],
   "source": [
    "D.avg_cost = D.avg_cost.apply(lambda x: x.replace(',',''))\n",
    "D.avg_cost = D.avg_cost.astype(int)\n",
    "sns.distplot(D.avg_cost)"
   ]
  },
  {
   "cell_type": "code",
   "execution_count": 18,
   "metadata": {
    "execution": {
     "iopub.execute_input": "2021-02-09T11:46:26.247849Z",
     "iopub.status.busy": "2021-02-09T11:46:26.247158Z",
     "iopub.status.idle": "2021-02-09T11:46:26.373106Z",
     "shell.execute_reply": "2021-02-09T11:46:26.373675Z"
    },
    "papermill": {
     "duration": 0.176709,
     "end_time": "2021-02-09T11:46:26.373822",
     "exception": false,
     "start_time": "2021-02-09T11:46:26.197113",
     "status": "completed"
    },
    "tags": []
   },
   "outputs": [
    {
     "data": {
      "image/png": "[encoded data removed]",
      "text/plain": [
       "<Figure size 864x864 with 1 Axes>"
      ]
     },
     "metadata": {},
     "output_type": "display_data"
    }
   ],
   "source": [
    "restaurantTypeCount = df['restaurant_type'].value_counts().sort_values(ascending=True)\n",
    "slices=[restaurantTypeCount[0],\n",
    "        restaurantTypeCount[1],\n",
    "        restaurantTypeCount[2],\n",
    "        restaurantTypeCount[3],\n",
    "        restaurantTypeCount[4],\n",
    "        restaurantTypeCount[5],\n",
    "        restaurantTypeCount[6]]\n",
    "labels=['Pubs and bars','Buffet','Drinks & nightlife','Cafes','Desserts','Dine-out','Delivery ']\n",
    "colors = ['#3333cc','#ffff1a','#ff3333','#c2c2d6','#6699ff','#c4ff4d','#339933']\n",
    "plt.pie(slices, colors=colors, labels=labels, autopct='%1.1f%%', pctdistance=.5, labeldistance=1.2, shadow=True)\n",
    "fig = plt.gcf()\n",
    "plt.title(\"Percentage of Restaurants according to their Type\")\n",
    "\n",
    "fig.set_size_inches(12,12)\n",
    "plt.show()"
   ]
  },
  {
   "cell_type": "code",
   "execution_count": 19,
   "metadata": {
    "execution": {
     "iopub.execute_input": "2021-02-09T11:46:26.444566Z",
     "iopub.status.busy": "2021-02-09T11:46:26.443860Z",
     "iopub.status.idle": "2021-02-09T11:46:26.666337Z",
     "shell.execute_reply": "2021-02-09T11:46:26.665806Z"
    },
    "papermill": {
     "duration": 0.259389,
     "end_time": "2021-02-09T11:46:26.666456",
     "exception": false,
     "start_time": "2021-02-09T11:46:26.407067",
     "status": "completed"
    },
    "tags": []
   },
   "outputs": [],
   "source": [
    "D = D.drop_duplicates(subset='name', keep='first')\n",
    "newdf = D[['name', 'avg_cost', 'locality', 'rest_type', 'cuisines']].groupby(['avg_cost'], sort=True)\n",
    "newdf = newdf.filter(lambda x:x.mean() <= 1500)\n",
    "newdf = newdf.sort_values('avg_cost')\n",
    "\n",
    "newdf_expensive=D[['name','avg_cost','locality','rest_type','cuisines']].groupby(['avg_cost'], sort = True)\n",
    "newdf_expensive=newdf_expensive.filter(lambda x: x.mean() >= 3000)\n",
    "newdf_expensive=newdf_expensive.sort_values(by=['avg_cost'])\n"
   ]
  },
  {
   "cell_type": "code",
   "execution_count": 20,
   "metadata": {
    "execution": {
     "iopub.execute_input": "2021-02-09T11:46:26.743371Z",
     "iopub.status.busy": "2021-02-09T11:46:26.742548Z",
     "iopub.status.idle": "2021-02-09T11:46:26.967184Z",
     "shell.execute_reply": "2021-02-09T11:46:26.966467Z"
    },
    "papermill": {
     "duration": 0.267282,
     "end_time": "2021-02-09T11:46:26.967313",
     "exception": false,
     "start_time": "2021-02-09T11:46:26.700031",
     "status": "completed"
    },
    "tags": []
   },
   "outputs": [
    {
     "data": {
      "text/plain": [
       "name               3142\n",
       "online_order          2\n",
       "book_table            2\n",
       "rate                 31\n",
       "votes               965\n",
       "rest_type            70\n",
       "dish_liked         2903\n",
       "cuisines           1475\n",
       "avg_cost             56\n",
       "reviews_list       3107\n",
       "menu_item           692\n",
       "restaurant_type       7\n",
       "locality             30\n",
       "dtype: int64"
      ]
     },
     "execution_count": 20,
     "metadata": {},
     "output_type": "execute_result"
    }
   ],
   "source": [
    "newdf_rate = D[['name', 'rate']].groupby('rate', sort=True)\n",
    "newdf_rate = newdf_rate.filter(lambda x: x.mean()  >= 4.5)\n",
    "newdf_rate = newdf_rate.sort_values('rate')\n",
    "D.rate.value_counts()\n",
    "D.rate.unique()\n",
    "D.nunique()"
   ]
  },
  {
   "cell_type": "code",
   "execution_count": 21,
   "metadata": {
    "execution": {
     "iopub.execute_input": "2021-02-09T11:46:27.075242Z",
     "iopub.status.busy": "2021-02-09T11:46:27.046119Z",
     "iopub.status.idle": "2021-02-09T11:46:27.084741Z",
     "shell.execute_reply": "2021-02-09T11:46:27.084036Z"
    },
    "papermill": {
     "duration": 0.082998,
     "end_time": "2021-02-09T11:46:27.084861",
     "exception": false,
     "start_time": "2021-02-09T11:46:27.001863",
     "status": "completed"
    },
    "tags": []
   },
   "outputs": [
    {
     "name": "stdout",
     "output_type": "stream",
     "text": [
      "Cheap restaurants with low cost,high rating \n",
      "\n"
     ]
    },
    {
     "data": {
      "text/html": [
       "<div>\n",
       "<style scoped>\n",
       "    .dataframe tbody tr th:only-of-type {\n",
       "        vertical-align: middle;\n",
       "    }\n",
       "\n",
       "    .dataframe tbody tr th {\n",
       "        vertical-align: top;\n",
       "    }\n",
       "\n",
       "    .dataframe thead th {\n",
       "        text-align: right;\n",
       "    }\n",
       "</style>\n",
       "<table border=\"1\" class=\"dataframe\">\n",
       "  <thead>\n",
       "    <tr style=\"text-align: right;\">\n",
       "      <th></th>\n",
       "      <th>name</th>\n",
       "      <th>avg_cost</th>\n",
       "      <th>locality</th>\n",
       "      <th>rest_type</th>\n",
       "      <th>cuisines</th>\n",
       "      <th>rate</th>\n",
       "    </tr>\n",
       "  </thead>\n",
       "  <tbody>\n",
       "    <tr>\n",
       "      <th>0</th>\n",
       "      <td>Brahmin's Coffee Bar</td>\n",
       "      <td>100</td>\n",
       "      <td>Basavanagudi</td>\n",
       "      <td>Quick Bites</td>\n",
       "      <td>South Indian</td>\n",
       "      <td>4.8</td>\n",
       "    </tr>\n",
       "    <tr>\n",
       "      <th>1</th>\n",
       "      <td>Taaza Thindi</td>\n",
       "      <td>100</td>\n",
       "      <td>Banashankari</td>\n",
       "      <td>Quick Bites</td>\n",
       "      <td>South Indian</td>\n",
       "      <td>4.7</td>\n",
       "    </tr>\n",
       "    <tr>\n",
       "      <th>2</th>\n",
       "      <td>CTR</td>\n",
       "      <td>150</td>\n",
       "      <td>Malleshwaram</td>\n",
       "      <td>Quick Bites</td>\n",
       "      <td>South Indian</td>\n",
       "      <td>4.7</td>\n",
       "    </tr>\n",
       "    <tr>\n",
       "      <th>3</th>\n",
       "      <td>Chikkanna Tiffin Room</td>\n",
       "      <td>150</td>\n",
       "      <td>Brigade Road</td>\n",
       "      <td>Quick Bites</td>\n",
       "      <td>South Indian</td>\n",
       "      <td>4.5</td>\n",
       "    </tr>\n",
       "    <tr>\n",
       "      <th>4</th>\n",
       "      <td>Veena Stores</td>\n",
       "      <td>150</td>\n",
       "      <td>Malleshwaram</td>\n",
       "      <td>Quick Bites</td>\n",
       "      <td>South Indian</td>\n",
       "      <td>4.5</td>\n",
       "    </tr>\n",
       "    <tr>\n",
       "      <th>...</th>\n",
       "      <td>...</td>\n",
       "      <td>...</td>\n",
       "      <td>...</td>\n",
       "      <td>...</td>\n",
       "      <td>...</td>\n",
       "      <td>...</td>\n",
       "    </tr>\n",
       "    <tr>\n",
       "      <th>86</th>\n",
       "      <td>Opus Food Stories</td>\n",
       "      <td>1500</td>\n",
       "      <td>Bellandur</td>\n",
       "      <td>Bar, Casual Dining</td>\n",
       "      <td>Goan, Asian, North Indian, European, Continental</td>\n",
       "      <td>4.7</td>\n",
       "    </tr>\n",
       "    <tr>\n",
       "      <th>87</th>\n",
       "      <td>Chianti</td>\n",
       "      <td>1500</td>\n",
       "      <td>Brigade Road</td>\n",
       "      <td>Casual Dining</td>\n",
       "      <td>Italian</td>\n",
       "      <td>4.5</td>\n",
       "    </tr>\n",
       "    <tr>\n",
       "      <th>88</th>\n",
       "      <td>Sarjapur Social</td>\n",
       "      <td>1500</td>\n",
       "      <td>Bellandur</td>\n",
       "      <td>Bar, Casual Dining</td>\n",
       "      <td>American, North Indian, Chinese, Finger Food</td>\n",
       "      <td>4.6</td>\n",
       "    </tr>\n",
       "    <tr>\n",
       "      <th>89</th>\n",
       "      <td>Toast &amp; Tonic</td>\n",
       "      <td>1500</td>\n",
       "      <td>Brigade Road</td>\n",
       "      <td>Casual Dining</td>\n",
       "      <td>European, Asian</td>\n",
       "      <td>4.6</td>\n",
       "    </tr>\n",
       "    <tr>\n",
       "      <th>90</th>\n",
       "      <td>Communiti</td>\n",
       "      <td>1500</td>\n",
       "      <td>Brigade Road</td>\n",
       "      <td>Microbrewery, Casual Dining</td>\n",
       "      <td>Continental, BBQ, Salad</td>\n",
       "      <td>4.7</td>\n",
       "    </tr>\n",
       "  </tbody>\n",
       "</table>\n",
       "<p>91 rows × 6 columns</p>\n",
       "</div>"
      ],
      "text/plain": [
       "                     name  avg_cost      locality  \\\n",
       "0    Brahmin's Coffee Bar       100  Basavanagudi   \n",
       "1            Taaza Thindi       100  Banashankari   \n",
       "2                     CTR       150  Malleshwaram   \n",
       "3   Chikkanna Tiffin Room       150  Brigade Road   \n",
       "4            Veena Stores       150  Malleshwaram   \n",
       "..                    ...       ...           ...   \n",
       "86      Opus Food Stories      1500     Bellandur   \n",
       "87                Chianti      1500  Brigade Road   \n",
       "88        Sarjapur Social      1500     Bellandur   \n",
       "89          Toast & Tonic      1500  Brigade Road   \n",
       "90              Communiti      1500  Brigade Road   \n",
       "\n",
       "                      rest_type  \\\n",
       "0                   Quick Bites   \n",
       "1                   Quick Bites   \n",
       "2                   Quick Bites   \n",
       "3                   Quick Bites   \n",
       "4                   Quick Bites   \n",
       "..                          ...   \n",
       "86           Bar, Casual Dining   \n",
       "87                Casual Dining   \n",
       "88           Bar, Casual Dining   \n",
       "89                Casual Dining   \n",
       "90  Microbrewery, Casual Dining   \n",
       "\n",
       "                                            cuisines  rate  \n",
       "0                                       South Indian   4.8  \n",
       "1                                       South Indian   4.7  \n",
       "2                                       South Indian   4.7  \n",
       "3                                       South Indian   4.5  \n",
       "4                                       South Indian   4.5  \n",
       "..                                               ...   ...  \n",
       "86  Goan, Asian, North Indian, European, Continental   4.7  \n",
       "87                                           Italian   4.5  \n",
       "88      American, North Indian, Chinese, Finger Food   4.6  \n",
       "89                                   European, Asian   4.6  \n",
       "90                           Continental, BBQ, Salad   4.7  \n",
       "\n",
       "[91 rows x 6 columns]"
      ]
     },
     "execution_count": 21,
     "metadata": {},
     "output_type": "execute_result"
    }
   ],
   "source": [
    "s1 = pd.merge(newdf, newdf_rate, how='inner', on=['name'])\n",
    "\n",
    "s2 = pd.merge(newdf_expensive, newdf_rate, how='inner', on=['name'])\n",
    "\n",
    "print(\"Cheap restaurants with low cost,high rating \\n\")\n",
    "s1"
   ]
  },
  {
   "cell_type": "code",
   "execution_count": 22,
   "metadata": {
    "execution": {
     "iopub.execute_input": "2021-02-09T11:46:27.170358Z",
     "iopub.status.busy": "2021-02-09T11:46:27.169616Z",
     "iopub.status.idle": "2021-02-09T11:46:27.175256Z",
     "shell.execute_reply": "2021-02-09T11:46:27.174517Z"
    },
    "papermill": {
     "duration": 0.055009,
     "end_time": "2021-02-09T11:46:27.175393",
     "exception": false,
     "start_time": "2021-02-09T11:46:27.120384",
     "status": "completed"
    },
    "tags": []
   },
   "outputs": [
    {
     "name": "stdout",
     "output_type": "stream",
     "text": [
      "Expensive restaurants with high cost,high rating \n",
      "\n"
     ]
    },
    {
     "data": {
      "text/html": [
       "<div>\n",
       "<style scoped>\n",
       "    .dataframe tbody tr th:only-of-type {\n",
       "        vertical-align: middle;\n",
       "    }\n",
       "\n",
       "    .dataframe tbody tr th {\n",
       "        vertical-align: top;\n",
       "    }\n",
       "\n",
       "    .dataframe thead th {\n",
       "        text-align: right;\n",
       "    }\n",
       "</style>\n",
       "<table border=\"1\" class=\"dataframe\">\n",
       "  <thead>\n",
       "    <tr style=\"text-align: right;\">\n",
       "      <th></th>\n",
       "      <th>name</th>\n",
       "      <th>avg_cost</th>\n",
       "      <th>locality</th>\n",
       "      <th>rest_type</th>\n",
       "      <th>cuisines</th>\n",
       "      <th>rate</th>\n",
       "    </tr>\n",
       "  </thead>\n",
       "  <tbody>\n",
       "    <tr>\n",
       "      <th>0</th>\n",
       "      <td>Rim Naam - The Oberoi</td>\n",
       "      <td>3000</td>\n",
       "      <td>Brigade Road</td>\n",
       "      <td>Fine Dining</td>\n",
       "      <td>Thai</td>\n",
       "      <td>4.6</td>\n",
       "    </tr>\n",
       "    <tr>\n",
       "      <th>1</th>\n",
       "      <td>Karavalli - The Gateway Hotel</td>\n",
       "      <td>3500</td>\n",
       "      <td>Brigade Road</td>\n",
       "      <td>Fine Dining</td>\n",
       "      <td>Mangalorean, Konkan, Seafood, Kerala</td>\n",
       "      <td>4.5</td>\n",
       "    </tr>\n",
       "    <tr>\n",
       "      <th>2</th>\n",
       "      <td>Alba - JW Marriott Bengaluru</td>\n",
       "      <td>4000</td>\n",
       "      <td>Brigade Road</td>\n",
       "      <td>Fine Dining</td>\n",
       "      <td>Italian</td>\n",
       "      <td>4.5</td>\n",
       "    </tr>\n",
       "  </tbody>\n",
       "</table>\n",
       "</div>"
      ],
      "text/plain": [
       "                            name  avg_cost      locality    rest_type  \\\n",
       "0          Rim Naam - The Oberoi      3000  Brigade Road  Fine Dining   \n",
       "1  Karavalli - The Gateway Hotel      3500  Brigade Road  Fine Dining   \n",
       "2   Alba - JW Marriott Bengaluru      4000  Brigade Road  Fine Dining   \n",
       "\n",
       "                               cuisines  rate  \n",
       "0                                  Thai   4.6  \n",
       "1  Mangalorean, Konkan, Seafood, Kerala   4.5  \n",
       "2                               Italian   4.5  "
      ]
     },
     "execution_count": 22,
     "metadata": {},
     "output_type": "execute_result"
    }
   ],
   "source": [
    "print(\"Expensive restaurants with high cost,high rating \\n\")\n",
    "s2"
   ]
  },
  {
   "cell_type": "code",
   "execution_count": 23,
   "metadata": {
    "execution": {
     "iopub.execute_input": "2021-02-09T11:46:27.260233Z",
     "iopub.status.busy": "2021-02-09T11:46:27.259139Z",
     "iopub.status.idle": "2021-02-09T11:46:28.303336Z",
     "shell.execute_reply": "2021-02-09T11:46:28.302579Z"
    },
    "papermill": {
     "duration": 1.090651,
     "end_time": "2021-02-09T11:46:28.303469",
     "exception": false,
     "start_time": "2021-02-09T11:46:27.212818",
     "status": "completed"
    },
    "tags": []
   },
   "outputs": [],
   "source": [
    "# X1.votes.describe()\n",
    "newdf_votes=D[['name','votes']].groupby(['votes'], sort = True)\n",
    "newdf_votes=newdf_votes.filter(lambda x: x.mean() >= 175)\n",
    "newdf_votes=newdf_votes.sort_values(by=['votes'])"
   ]
  },
  {
   "cell_type": "code",
   "execution_count": 24,
   "metadata": {
    "execution": {
     "iopub.execute_input": "2021-02-09T11:46:28.409195Z",
     "iopub.status.busy": "2021-02-09T11:46:28.386725Z",
     "iopub.status.idle": "2021-02-09T11:46:28.417487Z",
     "shell.execute_reply": "2021-02-09T11:46:28.416763Z"
    },
    "papermill": {
     "duration": 0.076865,
     "end_time": "2021-02-09T11:46:28.417631",
     "exception": false,
     "start_time": "2021-02-09T11:46:28.340766",
     "status": "completed"
    },
    "tags": []
   },
   "outputs": [
    {
     "name": "stdout",
     "output_type": "stream",
     "text": [
      "Cheap restaurants,high rating,high votes\n"
     ]
    },
    {
     "data": {
      "text/html": [
       "<div>\n",
       "<style scoped>\n",
       "    .dataframe tbody tr th:only-of-type {\n",
       "        vertical-align: middle;\n",
       "    }\n",
       "\n",
       "    .dataframe tbody tr th {\n",
       "        vertical-align: top;\n",
       "    }\n",
       "\n",
       "    .dataframe thead th {\n",
       "        text-align: right;\n",
       "    }\n",
       "</style>\n",
       "<table border=\"1\" class=\"dataframe\">\n",
       "  <thead>\n",
       "    <tr style=\"text-align: right;\">\n",
       "      <th></th>\n",
       "      <th>name</th>\n",
       "      <th>avg_cost</th>\n",
       "      <th>locality</th>\n",
       "      <th>rest_type</th>\n",
       "      <th>cuisines</th>\n",
       "      <th>rate</th>\n",
       "      <th>votes</th>\n",
       "    </tr>\n",
       "  </thead>\n",
       "  <tbody>\n",
       "    <tr>\n",
       "      <th>0</th>\n",
       "      <td>Brahmin's Coffee Bar</td>\n",
       "      <td>100</td>\n",
       "      <td>Basavanagudi</td>\n",
       "      <td>Quick Bites</td>\n",
       "      <td>South Indian</td>\n",
       "      <td>4.8</td>\n",
       "      <td>2679</td>\n",
       "    </tr>\n",
       "    <tr>\n",
       "      <th>1</th>\n",
       "      <td>Taaza Thindi</td>\n",
       "      <td>100</td>\n",
       "      <td>Banashankari</td>\n",
       "      <td>Quick Bites</td>\n",
       "      <td>South Indian</td>\n",
       "      <td>4.7</td>\n",
       "      <td>651</td>\n",
       "    </tr>\n",
       "    <tr>\n",
       "      <th>2</th>\n",
       "      <td>CTR</td>\n",
       "      <td>150</td>\n",
       "      <td>Malleshwaram</td>\n",
       "      <td>Quick Bites</td>\n",
       "      <td>South Indian</td>\n",
       "      <td>4.7</td>\n",
       "      <td>4408</td>\n",
       "    </tr>\n",
       "    <tr>\n",
       "      <th>3</th>\n",
       "      <td>Chikkanna Tiffin Room</td>\n",
       "      <td>150</td>\n",
       "      <td>Brigade Road</td>\n",
       "      <td>Quick Bites</td>\n",
       "      <td>South Indian</td>\n",
       "      <td>4.5</td>\n",
       "      <td>203</td>\n",
       "    </tr>\n",
       "    <tr>\n",
       "      <th>4</th>\n",
       "      <td>Veena Stores</td>\n",
       "      <td>150</td>\n",
       "      <td>Malleshwaram</td>\n",
       "      <td>Quick Bites</td>\n",
       "      <td>South Indian</td>\n",
       "      <td>4.5</td>\n",
       "      <td>2407</td>\n",
       "    </tr>\n",
       "    <tr>\n",
       "      <th>...</th>\n",
       "      <td>...</td>\n",
       "      <td>...</td>\n",
       "      <td>...</td>\n",
       "      <td>...</td>\n",
       "      <td>...</td>\n",
       "      <td>...</td>\n",
       "      <td>...</td>\n",
       "    </tr>\n",
       "    <tr>\n",
       "      <th>68</th>\n",
       "      <td>Toit</td>\n",
       "      <td>1500</td>\n",
       "      <td>Indiranagar</td>\n",
       "      <td>Microbrewery</td>\n",
       "      <td>Italian, American, Pizza</td>\n",
       "      <td>4.7</td>\n",
       "      <td>14956</td>\n",
       "    </tr>\n",
       "    <tr>\n",
       "      <th>67</th>\n",
       "      <td>Levitate Brewery and Kitchen</td>\n",
       "      <td>1500</td>\n",
       "      <td>Jayanagar</td>\n",
       "      <td>Microbrewery, Casual Dining</td>\n",
       "      <td>Finger Food, North Indian, Continental</td>\n",
       "      <td>4.5</td>\n",
       "      <td>456</td>\n",
       "    </tr>\n",
       "    <tr>\n",
       "      <th>80</th>\n",
       "      <td>Toast &amp; Tonic</td>\n",
       "      <td>1500</td>\n",
       "      <td>Brigade Road</td>\n",
       "      <td>Casual Dining</td>\n",
       "      <td>European, Asian</td>\n",
       "      <td>4.6</td>\n",
       "      <td>1082</td>\n",
       "    </tr>\n",
       "    <tr>\n",
       "      <th>72</th>\n",
       "      <td>Asia Kitchen By Mainland China</td>\n",
       "      <td>1500</td>\n",
       "      <td>BTM</td>\n",
       "      <td>Casual Dining, Bar</td>\n",
       "      <td>Asian, Chinese, Thai, Momos</td>\n",
       "      <td>4.9</td>\n",
       "      <td>2178</td>\n",
       "    </tr>\n",
       "    <tr>\n",
       "      <th>81</th>\n",
       "      <td>Communiti</td>\n",
       "      <td>1500</td>\n",
       "      <td>Brigade Road</td>\n",
       "      <td>Microbrewery, Casual Dining</td>\n",
       "      <td>Continental, BBQ, Salad</td>\n",
       "      <td>4.7</td>\n",
       "      <td>3894</td>\n",
       "    </tr>\n",
       "  </tbody>\n",
       "</table>\n",
       "<p>82 rows × 7 columns</p>\n",
       "</div>"
      ],
      "text/plain": [
       "                              name  avg_cost      locality  \\\n",
       "0             Brahmin's Coffee Bar       100  Basavanagudi   \n",
       "1                     Taaza Thindi       100  Banashankari   \n",
       "2                              CTR       150  Malleshwaram   \n",
       "3            Chikkanna Tiffin Room       150  Brigade Road   \n",
       "4                     Veena Stores       150  Malleshwaram   \n",
       "..                             ...       ...           ...   \n",
       "68                            Toit      1500   Indiranagar   \n",
       "67    Levitate Brewery and Kitchen      1500     Jayanagar   \n",
       "80                   Toast & Tonic      1500  Brigade Road   \n",
       "72  Asia Kitchen By Mainland China      1500           BTM   \n",
       "81                       Communiti      1500  Brigade Road   \n",
       "\n",
       "                      rest_type                                cuisines  rate  \\\n",
       "0                   Quick Bites                            South Indian   4.8   \n",
       "1                   Quick Bites                            South Indian   4.7   \n",
       "2                   Quick Bites                            South Indian   4.7   \n",
       "3                   Quick Bites                            South Indian   4.5   \n",
       "4                   Quick Bites                            South Indian   4.5   \n",
       "..                          ...                                     ...   ...   \n",
       "68                 Microbrewery                Italian, American, Pizza   4.7   \n",
       "67  Microbrewery, Casual Dining  Finger Food, North Indian, Continental   4.5   \n",
       "80                Casual Dining                         European, Asian   4.6   \n",
       "72           Casual Dining, Bar             Asian, Chinese, Thai, Momos   4.9   \n",
       "81  Microbrewery, Casual Dining                 Continental, BBQ, Salad   4.7   \n",
       "\n",
       "    votes  \n",
       "0    2679  \n",
       "1     651  \n",
       "2    4408  \n",
       "3     203  \n",
       "4    2407  \n",
       "..    ...  \n",
       "68  14956  \n",
       "67    456  \n",
       "80   1082  \n",
       "72   2178  \n",
       "81   3894  \n",
       "\n",
       "[82 rows x 7 columns]"
      ]
     },
     "execution_count": 24,
     "metadata": {},
     "output_type": "execute_result"
    }
   ],
   "source": [
    "s = pd.merge(s1, newdf_votes, how='inner', on=['name'])\n",
    "s=s.sort_values(by=['avg_cost'])\n",
    "print(\"Cheap restaurants,high rating,high votes\")\n",
    "s"
   ]
  },
  {
   "cell_type": "code",
   "execution_count": 25,
   "metadata": {
    "execution": {
     "iopub.execute_input": "2021-02-09T11:46:28.515077Z",
     "iopub.status.busy": "2021-02-09T11:46:28.501974Z",
     "iopub.status.idle": "2021-02-09T11:46:28.519855Z",
     "shell.execute_reply": "2021-02-09T11:46:28.519156Z"
    },
    "papermill": {
     "duration": 0.064494,
     "end_time": "2021-02-09T11:46:28.519984",
     "exception": false,
     "start_time": "2021-02-09T11:46:28.455490",
     "status": "completed"
    },
    "tags": []
   },
   "outputs": [
    {
     "data": {
      "text/html": [
       "<div>\n",
       "<style scoped>\n",
       "    .dataframe tbody tr th:only-of-type {\n",
       "        vertical-align: middle;\n",
       "    }\n",
       "\n",
       "    .dataframe tbody tr th {\n",
       "        vertical-align: top;\n",
       "    }\n",
       "\n",
       "    .dataframe thead th {\n",
       "        text-align: right;\n",
       "    }\n",
       "</style>\n",
       "<table border=\"1\" class=\"dataframe\">\n",
       "  <thead>\n",
       "    <tr style=\"text-align: right;\">\n",
       "      <th></th>\n",
       "      <th>name</th>\n",
       "      <th>avg_cost</th>\n",
       "      <th>locality</th>\n",
       "      <th>rest_type</th>\n",
       "      <th>cuisines</th>\n",
       "      <th>rate</th>\n",
       "      <th>votes</th>\n",
       "    </tr>\n",
       "  </thead>\n",
       "  <tbody>\n",
       "    <tr>\n",
       "      <th>0</th>\n",
       "      <td>Rim Naam - The Oberoi</td>\n",
       "      <td>3000</td>\n",
       "      <td>Brigade Road</td>\n",
       "      <td>Fine Dining</td>\n",
       "      <td>Thai</td>\n",
       "      <td>4.6</td>\n",
       "      <td>979</td>\n",
       "    </tr>\n",
       "    <tr>\n",
       "      <th>1</th>\n",
       "      <td>Karavalli - The Gateway Hotel</td>\n",
       "      <td>3500</td>\n",
       "      <td>Brigade Road</td>\n",
       "      <td>Fine Dining</td>\n",
       "      <td>Mangalorean, Konkan, Seafood, Kerala</td>\n",
       "      <td>4.5</td>\n",
       "      <td>674</td>\n",
       "    </tr>\n",
       "    <tr>\n",
       "      <th>2</th>\n",
       "      <td>Alba - JW Marriott Bengaluru</td>\n",
       "      <td>4000</td>\n",
       "      <td>Brigade Road</td>\n",
       "      <td>Fine Dining</td>\n",
       "      <td>Italian</td>\n",
       "      <td>4.5</td>\n",
       "      <td>583</td>\n",
       "    </tr>\n",
       "  </tbody>\n",
       "</table>\n",
       "</div>"
      ],
      "text/plain": [
       "                            name  avg_cost      locality    rest_type  \\\n",
       "0          Rim Naam - The Oberoi      3000  Brigade Road  Fine Dining   \n",
       "1  Karavalli - The Gateway Hotel      3500  Brigade Road  Fine Dining   \n",
       "2   Alba - JW Marriott Bengaluru      4000  Brigade Road  Fine Dining   \n",
       "\n",
       "                               cuisines  rate  votes  \n",
       "0                                  Thai   4.6    979  \n",
       "1  Mangalorean, Konkan, Seafood, Kerala   4.5    674  \n",
       "2                               Italian   4.5    583  "
      ]
     },
     "execution_count": 25,
     "metadata": {},
     "output_type": "execute_result"
    }
   ],
   "source": [
    "s = pd.merge(s2, newdf_votes, how='inner', on=['name'])\n",
    "s=s.sort_values(by=['avg_cost'])\n",
    "s"
   ]
  },
  {
   "cell_type": "code",
   "execution_count": null,
   "metadata": {
    "papermill": {
     "duration": 0.038216,
     "end_time": "2021-02-09T11:46:28.596561",
     "exception": false,
     "start_time": "2021-02-09T11:46:28.558345",
     "status": "completed"
    },
    "tags": []
   },
   "outputs": [],
   "source": []
  }
 ],
 "metadata": {
  "kernelspec": {
   "display_name": "Python 3",
   "language": "python",
   "name": "python3"
  },
  "language_info": {
   "codemirror_mode": {
    "name": "ipython",
    "version": 3
   },
   "file_extension": ".py",
   "mimetype": "text/x-python",
   "name": "python",
   "nbconvert_exporter": "python",
   "pygments_lexer": "ipython3",
   "version": "3.7.6"
  },
  "papermill": {
   "duration": 24.701403,
   "end_time": "2021-02-09T11:46:28.746004",
   "environment_variables": {},
   "exception": null,
   "input_path": "__notebook__.ipynb",
   "output_path": "__notebook__.ipynb",
   "parameters": {},
   "start_time": "2021-02-09T11:46:04.044601",
   "version": "2.1.0"
  }
 },
 "nbformat": 4,
 "nbformat_minor": 4
}
